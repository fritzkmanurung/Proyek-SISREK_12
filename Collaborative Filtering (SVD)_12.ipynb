{
 "cells": [
  {
   "cell_type": "markdown",
   "id": "ad600589",
   "metadata": {},
   "source": [
    "<table style=\"float: left; width: 50%;\">\n",
    "    <thead>\n",
    "        <tr>\n",
    "            <th style=\"background-color: #ADD8E6; color: black; text-align: left; padding: 8px;\">NIM</th>\n",
    "            <th style=\"background-color: #ADD8E6; color: black; text-align: left; padding: 8px;\">Nama</th>\n",
    "        </tr>\n",
    "    </thead>\n",
    "    <tbody>\n",
    "        <tr>\n",
    "            <td style=\"text-align: left; padding: 8px;\">12S19036</td>\n",
    "            <td style=\"text-align: left; padding: 8px;\">Lucas Hutabarat</td>\n",
    "        </tr>\n",
    "        <tr>\n",
    "            <td style=\"text-align: left; padding: 8px;\">12S21004</td>\n",
    "            <td style=\"text-align: left; padding: 8px;\">Estomihi Pangaribuan</td>\n",
    "        </tr>\n",
    "        <tr>\n",
    "            <td style=\"text-align: left; padding: 8px;\">12S21014</td>\n",
    "            <td style=\"text-align: left; padding: 8px;\">Fritz Kevin Manurung</td>\n",
    "        </tr>\n",
    "    </tbody>\n",
    "</table>"
   ]
  },
  {
   "cell_type": "markdown",
   "id": "eb39eabc",
   "metadata": {},
   "source": [
    "Import Library dan Load Dataset"
   ]
  },
  {
   "cell_type": "code",
   "execution_count": null,
   "id": "b807938e",
   "metadata": {},
   "outputs": [],
   "source": [
    "import pandas as pd\n",
    "from sklearn.model_selection import train_test_split\n",
    "from sklearn.decomposition import TruncatedSVD\n",
    "from sklearn.metrics import mean_squared_error, mean_absolute_error\n",
    "import numpy as np\n",
    "import matplotlib.pyplot as plt\n",
    "\n",
    "file_path = 'D:/Semester 7/SISREK/W11/Tempat-Wisata-Toba-Preprocessing.csv'\n",
    "data = pd.read_csv(file_path)"
   ]
  },
  {
   "cell_type": "markdown",
   "id": "46144b2a",
   "metadata": {},
   "source": [
    "Pembersihan Data"
   ]
  },
  {
   "cell_type": "code",
   "execution_count": null,
   "id": "69ba0b68",
   "metadata": {},
   "outputs": [],
   "source": [
    "data = data.dropna(subset=['ReviewerId', 'Rating'])\n",
    "data['ReviewerId'] = data['ReviewerId'].astype(str)\n",
    "data['PlaceID'] = data['PlaceID'].astype(str)"
   ]
  },
  {
   "cell_type": "markdown",
   "id": "74acf1a7",
   "metadata": {},
   "source": [
    "Tangani Duplikasi Data"
   ]
  },
  {
   "cell_type": "code",
   "execution_count": null,
   "id": "1a5c1171",
   "metadata": {
    "scrolled": true
   },
   "outputs": [],
   "source": [
    "data_cleaned = data.groupby(['ReviewerId', 'PlaceID'])['Rating'].mean().reset_index()"
   ]
  },
  {
   "cell_type": "markdown",
   "id": "8b10041c",
   "metadata": {},
   "source": [
    "Pembagian Dataset (Train, Validation, Test)"
   ]
  },
  {
   "cell_type": "code",
   "execution_count": null,
   "id": "746980f2",
   "metadata": {},
   "outputs": [],
   "source": [
    "train_data, temp_data = train_test_split(data_cleaned, test_size=0.3, random_state=42)\n",
    "val_data, test_data = train_test_split(temp_data, test_size=0.5, random_state=42)\n",
    "\n",
    "train_data = train_data.reset_index(drop=True)\n",
    "val_data = val_data.reset_index(drop=True)\n",
    "test_data = test_data.reset_index(drop=True)"
   ]
  },
  {
   "cell_type": "markdown",
   "id": "574dc04e",
   "metadata": {},
   "source": [
    "Buat Matriks User-Item dan Implementasi SVD"
   ]
  },
  {
   "cell_type": "code",
   "execution_count": null,
   "id": "0beabb31",
   "metadata": {},
   "outputs": [],
   "source": [
    "# Buat matriks user-item untuk train_data\n",
    "user_item_matrix = train_data.pivot(index='ReviewerId', columns='PlaceID', values='Rating').fillna(0)\n",
    "user_item_matrix_np = user_item_matrix.values\n",
    "\n",
    "# Deklarasi model SVD dengan parameter terbaik (n_components=20)\n",
    "svd = TruncatedSVD(n_components=20, random_state=42)\n",
    "U = svd.fit_transform(user_item_matrix_np)\n",
    "Sigma = svd.singular_values_\n",
    "VT = svd.components_\n",
    "\n",
    "# Rekonstruksi matriks prediksi\n",
    "reconstructed_matrix = np.dot(np.dot(U, np.diag(Sigma)), VT)\n",
    "reconstructed_matrix = np.clip(reconstructed_matrix, 1, 5)\n",
    "\n",
    "# Simpan matriks rekonstruksi untuk evaluasi\n",
    "user_item_reconstructed = pd.DataFrame(reconstructed_matrix, index=user_item_matrix.index, columns=user_item_matrix.columns)"
   ]
  },
  {
   "cell_type": "markdown",
   "id": "7e22abe5",
   "metadata": {},
   "source": [
    "Prediksi dengan Matriks Rekonstruksi"
   ]
  },
  {
   "cell_type": "code",
   "execution_count": null,
   "id": "dfc442b4",
   "metadata": {},
   "outputs": [],
   "source": [
    "val_data['PredictedRating'] = val_data.apply(\n",
    "    lambda row: user_item_reconstructed.loc[row['ReviewerId'], row['PlaceID']] \n",
    "    if row['ReviewerId'] in user_item_reconstructed.index and row['PlaceID'] in user_item_reconstructed.columns else np.nan,\n",
    "    axis=1\n",
    ")\n",
    "\n",
    "test_data['PredictedRating'] = test_data.apply(\n",
    "    lambda row: user_item_reconstructed.loc[row['ReviewerId'], row['PlaceID']] \n",
    "    if row['ReviewerId'] in user_item_reconstructed.index and row['PlaceID'] in user_item_reconstructed.columns else np.nan,\n",
    "    axis=1\n",
    ")"
   ]
  },
  {
   "cell_type": "markdown",
   "id": "07d88751",
   "metadata": {},
   "source": [
    "Evaluasi Metrik"
   ]
  },
  {
   "cell_type": "code",
   "execution_count": null,
   "id": "9e4a9b46",
   "metadata": {},
   "outputs": [],
   "source": [
    "# Hapus baris tanpa prediksi\n",
    "test_data_clean = test_data.dropna(subset=['PredictedRating'])\n",
    "\n",
    "# RMSE dan MAE\n",
    "rmse_test = np.sqrt(mean_squared_error(test_data_clean['Rating'], test_data_clean['PredictedRating']))\n",
    "mae_test = mean_absolute_error(test_data_clean['Rating'], test_data_clean['PredictedRating'])\n",
    "print(f\"RMSE: {rmse_test:.2f}, MAE: {mae_test:.2f}\")\n",
    "\n",
    "# Precision@K\n",
    "def precision_at_k(test_data, k):\n",
    "    grouped = test_data.groupby('ReviewerId')\n",
    "    precisions = []\n",
    "    for user, group in grouped:\n",
    "        group = group.sort_values(by='PredictedRating', ascending=False)\n",
    "        top_k = group.head(k)\n",
    "        relevant = (top_k['Rating'] >= 4).sum()\n",
    "        precisions.append(relevant / k)\n",
    "    return np.mean(precisions)\n",
    "\n",
    "# Recall@K\n",
    "def recall_at_k(test_data, k):\n",
    "    grouped = test_data.groupby('ReviewerId')\n",
    "    recalls = []\n",
    "    for user, group in grouped:\n",
    "        group = group.sort_values(by='PredictedRating', ascending=False)\n",
    "        top_k = group.head(k)\n",
    "        relevant = (group['Rating'] >= 4).sum()\n",
    "        retrieved_relevant = (top_k['Rating'] >= 4).sum()\n",
    "        recalls.append(retrieved_relevant / relevant if relevant > 0 else 0)\n",
    "    return np.mean(recalls)\n",
    "\n",
    "# MAP@K\n",
    "def mean_average_precision_at_k(test_data, k):\n",
    "    grouped = test_data.groupby('ReviewerId')\n",
    "    average_precisions = []\n",
    "    for user, group in grouped:\n",
    "        group = group.sort_values(by='PredictedRating', ascending=False)\n",
    "        top_k = group.head(k)\n",
    "        cumulative_precision = 0\n",
    "        relevant_count = 0\n",
    "        for i, (_, row) in enumerate(top_k.iterrows(), 1):\n",
    "            if row['Rating'] >= 4:\n",
    "                relevant_count += 1\n",
    "                cumulative_precision += relevant_count / i\n",
    "        average_precisions.append(cumulative_precision / k)\n",
    "    return np.mean(average_precisions)\n",
    "\n",
    "# Hitung metrik untuk Top 5\n",
    "precision_5 = precision_at_k(test_data_clean, k=5)\n",
    "recall_5 = recall_at_k(test_data_clean, k=5)\n",
    "map_5 = mean_average_precision_at_k(test_data_clean, k=5)\n",
    "\n",
    "# Hitung metrik untuk Top 10\n",
    "precision_10 = precision_at_k(test_data_clean, k=10)\n",
    "recall_10 = recall_at_k(test_data_clean, k=10)\n",
    "map_10 = mean_average_precision_at_k(test_data_clean, k=10)\n",
    "\n",
    "print(f\"Precision@5: {precision_5:.2f}, Recall@5: {recall_5:.2f}, MAP@5: {map_5:.2f}\")\n",
    "print(f\"Precision@10: {precision_10:.2f}, Recall@10: {recall_10:.2f}, MAP@10: {map_10:.2f}\")"
   ]
  },
  {
   "cell_type": "markdown",
   "id": "632c011e",
   "metadata": {},
   "source": [
    "Visualisasi Performa"
   ]
  },
  {
   "cell_type": "code",
   "execution_count": null,
   "id": "615e3f0c",
   "metadata": {},
   "outputs": [],
   "source": [
    "# Data untuk Rating Metriks\n",
    "rating_metrics = ['RMSE', 'MAE']\n",
    "rating_values = [rmse_test, mae_test]\n",
    "\n",
    "plt.figure(figsize=(8, 6))\n",
    "plt.bar(rating_metrics, rating_values, color='blue')\n",
    "plt.title('Rating Metriks (RMSE dan MAE)')\n",
    "plt.ylabel('Nilai')\n",
    "plt.ylim(0, max(rating_values) + 0.1)\n",
    "for i, v in enumerate(rating_values):\n",
    "    plt.text(i, v + 0.01, f'{v:.2f}', ha='center')\n",
    "plt.show()\n",
    "\n",
    "# Data untuk Ranking Metriks\n",
    "ranking_metrics = ['Precision@5', 'Recall@5', 'MAP@5', 'Precision@10', 'Recall@10', 'MAP@10']\n",
    "ranking_values = [precision_5, recall_5, map_5, precision_10, recall_10, map_10]\n",
    "\n",
    "plt.figure(figsize=(10, 6))\n",
    "plt.bar(ranking_metrics, ranking_values, color='orange')\n",
    "plt.title('Ranking Metriks (Precision, Recall, MAP)')\n",
    "plt.ylabel('Nilai')\n",
    "plt.ylim(0, max(ranking_values) + 0.1)\n",
    "for i, v in enumerate(ranking_values):\n",
    "    plt.text(i, v + 0.01, f'{v:.2f}', ha='center')\n",
    "plt.show()"
   ]
  },
  {
   "cell_type": "markdown",
   "id": "33ffc91c",
   "metadata": {},
   "source": [
    "Top 5 Rekomendasi"
   ]
  },
  {
   "cell_type": "code",
   "execution_count": null,
   "id": "fdaa9849",
   "metadata": {},
   "outputs": [],
   "source": [
    "def get_top_5_recommendations_svd(test_data, user_item_matrix, reconstructed_matrix):\n",
    "    recommendations = []\n",
    "    for user_id in test_data['ReviewerId'].unique():\n",
    "        if user_id in user_item_matrix.index:\n",
    "            user_index = user_item_matrix.index.get_loc(user_id)\n",
    "            predicted_ratings = reconstructed_matrix[user_index]\n",
    "            recommended_places = pd.DataFrame({\n",
    "                'PlaceID': user_item_matrix.columns,\n",
    "                'PredictedRating': predicted_ratings\n",
    "            }).sort_values(by='PredictedRating', ascending=False)\n",
    "            recommendations.append((user_id, recommended_places.head(5)))\n",
    "    return recommendations\n",
    "\n",
    "top_5_recommendations = get_top_5_recommendations_svd(test_data_clean, user_item_matrix, reconstructed_matrix)\n",
    "\n",
    "for user, recs in top_5_recommendations[:5]:\n",
    "    print(f\"Top 5 tempat wisata untuk user {user}:\")\n",
    "    print(recs)\n",
    "    print()"
   ]
  }
 ],
 "metadata": {
  "kernelspec": {
   "display_name": "Python 3 (ipykernel)",
   "language": "python",
   "name": "python3"
  },
  "language_info": {
   "codemirror_mode": {
    "name": "ipython",
    "version": 3
   },
   "file_extension": ".py",
   "mimetype": "text/x-python",
   "name": "python",
   "nbconvert_exporter": "python",
   "pygments_lexer": "ipython3",
   "version": "3.11.4"
  }
 },
 "nbformat": 4,
 "nbformat_minor": 5
}
