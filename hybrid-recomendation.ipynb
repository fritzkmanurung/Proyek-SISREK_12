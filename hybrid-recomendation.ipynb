{
 "cells": [
  {
   "cell_type": "markdown",
   "metadata": {},
   "source": [
    "### Import Library"
   ]
  },
  {
   "cell_type": "code",
   "execution_count": null,
   "metadata": {},
   "outputs": [],
   "source": [
    "import pandas as pd\n",
    "import numpy as np\n",
    "from sklearn.model_selection import train_test_split\n",
    "from sklearn.feature_extraction.text import TfidfVectorizer\n",
    "from sklearn.metrics.pairwise import cosine_similarity\n",
    "from surprise import SVD, Dataset, Reader\n",
    "from surprise.model_selection import GridSearchCV\n",
    "from sklearn.preprocessing import MinMaxScaler, LabelEncoder\n",
    "from sklearn.metrics import (\n",
    "    mean_squared_error,\n",
    "    mean_absolute_error,\n",
    "    precision_score,\n",
    "    recall_score,\n",
    ")\n",
    "from Sastrawi.StopWordRemover.StopWordRemoverFactory import StopWordRemoverFactory\n",
    "import warnings\n",
    "\n",
    "warnings.filterwarnings(\"ignore\")"
   ]
  },
  {
   "cell_type": "markdown",
   "metadata": {},
   "source": [
    "### Load data"
   ]
  },
  {
   "cell_type": "code",
   "execution_count": null,
   "metadata": {},
   "outputs": [],
   "source": [
    "# Load dataset\n",
    "data = pd.read_csv(\"data/Tempat-Wisata-Toba-Preprocessing.csv\")"
   ]
  },
  {
   "cell_type": "markdown",
   "metadata": {},
   "source": [
    "### Preprocessing Dataset"
   ]
  },
  {
   "cell_type": "code",
   "execution_count": null,
   "metadata": {},
   "outputs": [],
   "source": [
    "# Preprocessing\n",
    "def preprocess_data(data):\n",
    "    data = data.dropna()\n",
    "    data = data.drop([\"Unnamed: 0\", \"Unnamed: 0.1\"], axis=1)\n",
    "    scaler = MinMaxScaler()\n",
    "    data[\"NormalRating\"] = scaler.fit_transform(data[[\"Rating\"]])\n",
    "    le_user = LabelEncoder()\n",
    "    le_place = LabelEncoder()\n",
    "    data[\"ReviewerId\"] = le_user.fit_transform(data[\"ReviewerId\"])\n",
    "    data[\"PlaceID\"] = le_place.fit_transform(data[\"PlaceID\"])\n",
    "    train, test = train_test_split(data, test_size=0.3, random_state=42)\n",
    "    test, val = train_test_split(test, test_size=0.5, random_state=42)\n",
    "    return train, test, val, le_user, le_place"
   ]
  },
  {
   "cell_type": "markdown",
   "metadata": {},
   "source": [
    "###  Collaborative Filtering with SVD"
   ]
  },
  {
   "cell_type": "code",
   "execution_count": null,
   "metadata": {},
   "outputs": [],
   "source": [
    "# Collaborative Filtering\n",
    "def collaborative_filtering_tuning(train):\n",
    "    reader = Reader(rating_scale=(0, 1))\n",
    "    data_surprise = Dataset.load_from_df(\n",
    "        train[[\"ReviewerId\", \"PlaceID\", \"NormalRating\"]], reader\n",
    "    )\n",
    "    param_grid = {\n",
    "        \"n_factors\": [50, 100, 150],\n",
    "        \"n_epochs\": [10, 20, 30],\n",
    "        \"lr_all\": [0.002, 0.005, 0.01],\n",
    "        \"reg_all\": [0.02, 0.05, 0.1],\n",
    "    }\n",
    "    gs = GridSearchCV(SVD, param_grid, measures=[\"rmse\", \"mae\"], cv=3)\n",
    "    gs.fit(data_surprise)\n",
    "    best_params = gs.best_params[\"rmse\"]\n",
    "    print(f\"Best parameters for SVD: {best_params}\")\n",
    "    best_svd = SVD(**best_params)\n",
    "    trainset = data_surprise.build_full_trainset()\n",
    "    best_svd.fit(trainset)\n",
    "    return best_svd"
   ]
  },
  {
   "cell_type": "markdown",
   "metadata": {},
   "source": [
    "### Content-Based Filtering with TF-IDF and Cosine Similarity"
   ]
  },
  {
   "cell_type": "code",
   "execution_count": null,
   "metadata": {},
   "outputs": [],
   "source": [
    "# Content-Based Filtering\n",
    "def content_based_filtering_tuning(train):\n",
    "    factory = StopWordRemoverFactory()\n",
    "    stopwords = factory.get_stop_words()\n",
    "    params = {\n",
    "        \"max_features\": [100, 500, 1000],\n",
    "        \"ngram_range\": [(1, 1), (1, 2), (1, 3)],\n",
    "        \"stop_words\": [stopwords, None],\n",
    "    }\n",
    "    reviews = train[\"Reviews\"]\n",
    "    best_tfidf = None\n",
    "    best_score = -1\n",
    "    for max_features in params[\"max_features\"]:\n",
    "        for ngram_range in params[\"ngram_range\"]:\n",
    "            for stop_words in params[\"stop_words\"]:\n",
    "                tfidf = TfidfVectorizer(\n",
    "                    max_features=max_features,\n",
    "                    ngram_range=ngram_range,\n",
    "                    stop_words=stop_words,\n",
    "                )\n",
    "                try:\n",
    "                    tfidf_matrix = tfidf.fit_transform(reviews)\n",
    "                    score = cosine_similarity(tfidf_matrix).mean()\n",
    "                    if score > best_score:\n",
    "                        best_score = score\n",
    "                        best_tfidf = tfidf\n",
    "                except Exception as e:\n",
    "                    print(e)\n",
    "    print(f\"Best parameters for TF-IDF: {best_tfidf.get_params()}\")\n",
    "    tfidf_matrix = best_tfidf.fit_transform(reviews)\n",
    "    cosine_sim = cosine_similarity(tfidf_matrix)\n",
    "    return cosine_sim, best_tfidf"
   ]
  },
  {
   "cell_type": "markdown",
   "metadata": {},
   "source": [
    "### Hybrid Recommendation"
   ]
  },
  {
   "cell_type": "code",
   "execution_count": null,
   "metadata": {},
   "outputs": [],
   "source": [
    "# hybrid_recommendation\n",
    "def hybrid_recommendation(\n",
    "    predictions, cosine_sim, svd, val, cf_weight=0.7, cb_weight=0.3\n",
    "):\n",
    "    # Predict rating\n",
    "    val[\"PredictedRating\"] = val.apply(\n",
    "        lambda x: svd.predict(x[\"ReviewerId\"], x[\"PlaceID\"]).est, axis=1\n",
    "    )\n",
    "\n",
    "    hybrid_scores = []\n",
    "    for i, row in val.iterrows():\n",
    "        cb_score = cosine_sim[row[\"PlaceID\"]].mean()\n",
    "        cf_score = row[\"PredictedRating\"]\n",
    "        hybrid_score = cf_weight * cf_score + cb_weight * cb_score\n",
    "        hybrid_scores.append(hybrid_score)\n",
    "\n",
    "    val[\"HybridScore\"] = hybrid_scores\n",
    "    return val"
   ]
  },
  {
   "cell_type": "markdown",
   "metadata": {},
   "source": [
    "### Evaluation - Ranking Based"
   ]
  },
  {
   "cell_type": "code",
   "execution_count": null,
   "metadata": {},
   "outputs": [],
   "source": [
    "# Evaluation - Ranking Based\n",
    "def evaluate_ranking_based(val):\n",
    "    val[\"Relevant\"] = val[\"NormalRating\"] >= 0.5\n",
    "    val[\"Recommended\"] = val[\"HybridScore\"] >= 0.5\n",
    "    precision = precision_score(val[\"Relevant\"], val[\"Recommended\"])\n",
    "    recall = recall_score(val[\"Relevant\"], val[\"Recommended\"])\n",
    "    val = val.sort_values(\"HybridScore\", ascending=False)\n",
    "    val[\"Rank\"] = range(1, len(val) + 1)\n",
    "    val[\"CumulativeRelevant\"] = val[\"Relevant\"].cumsum()\n",
    "    val[\"PrecisionAtK\"] = val[\"CumulativeRelevant\"] / val[\"Rank\"]\n",
    "    map_score = val.loc[val[\"Relevant\"], \"PrecisionAtK\"].mean()\n",
    "    return precision, recall, map_score"
   ]
  },
  {
   "cell_type": "markdown",
   "metadata": {},
   "source": [
    "### Evaluation - Rating Based"
   ]
  },
  {
   "cell_type": "code",
   "execution_count": null,
   "metadata": {},
   "outputs": [],
   "source": [
    "# Evaluation - Rating Based\n",
    "def evaluate_rating_based(val):\n",
    "    rmse = np.sqrt(mean_squared_error(val[\"NormalRating\"], val[\"HybridScore\"]))\n",
    "    mae = mean_absolute_error(val[\"NormalRating\"], val[\"HybridScore\"])\n",
    "    return rmse, mae"
   ]
  },
  {
   "cell_type": "markdown",
   "metadata": {},
   "source": [
    "### Pemanggilan Fungsi"
   ]
  },
  {
   "cell_type": "code",
   "execution_count": null,
   "metadata": {},
   "outputs": [
    {
     "name": "stdout",
     "output_type": "stream",
     "text": [
      "Best parameters for SVD: {'n_factors': 50, 'n_epochs': 20, 'lr_all': 0.01, 'reg_all': 0.1}\n",
      "Best parameters for TF-IDF: {'analyzer': 'word', 'binary': False, 'decode_error': 'strict', 'dtype': <class 'numpy.float64'>, 'encoding': 'utf-8', 'input': 'content', 'lowercase': True, 'max_df': 1.0, 'max_features': 100, 'min_df': 1, 'ngram_range': (1, 3), 'norm': 'l2', 'preprocessor': None, 'smooth_idf': True, 'stop_words': None, 'strip_accents': None, 'sublinear_tf': False, 'token_pattern': '(?u)\\\\b\\\\w\\\\w+\\\\b', 'tokenizer': None, 'use_idf': True, 'vocabulary': None}\n"
     ]
    }
   ],
   "source": [
    "train, test, val, le_user, le_place = preprocess_data(data)\n",
    "\n",
    "svd = collaborative_filtering_tuning(train)\n",
    "\n",
    "cosine_sim, tfidf = content_based_filtering_tuning(train)\n",
    "\n",
    "val = hybrid_recommendation(val, cosine_sim, svd, val, cf_weight=0.7, cb_weight=0.3)\n",
    "\n",
    "precision, recall, map_score = evaluate_ranking_based(val)\n",
    "rmse, mae = evaluate_rating_based(val)"
   ]
  },
  {
   "cell_type": "markdown",
   "metadata": {},
   "source": [
    "### Hasil"
   ]
  },
  {
   "cell_type": "code",
   "execution_count": 9,
   "metadata": {},
   "outputs": [
    {
     "name": "stdout",
     "output_type": "stream",
     "text": [
      "Precision: 0.9640463132236441\n",
      "Recall: 0.9875156054931336\n",
      "MAP: 0.9779478100403161\n",
      "RMSE: 0.32813284841820084\n",
      "MAE: 0.30439764815020637\n"
     ]
    }
   ],
   "source": [
    "print(f\"Precision: {precision}\")\n",
    "print(f\"Recall: {recall}\")\n",
    "print(f\"MAP: {map_score}\")\n",
    "print(f\"RMSE: {rmse}\")\n",
    "print(f\"MAE: {mae}\")"
   ]
  },
  {
   "cell_type": "markdown",
   "metadata": {},
   "source": [
    "### Visualization"
   ]
  },
  {
   "cell_type": "code",
   "execution_count": null,
   "metadata": {},
   "outputs": [
    {
     "data": {
      "image/png": "[encoded data removed]",
      "text/plain": [
       "<Figure size 640x480 with 1 Axes>"
      ]
     },
     "metadata": {},
     "output_type": "display_data"
    }
   ],
   "source": [
    "# visualization  hasil evaluasi dengan chart bar\n",
    "import matplotlib.pyplot as plt\n",
    "\n",
    "metrics = [\"Precision\", \"Recall\", \"MAP\", \"RMSE\", \"MAE\"]\n",
    "values = [precision, recall, map_score, rmse, mae]\n",
    "\n",
    "plt.bar(metrics, values)\n",
    "plt.ylabel(\"Value\")\n",
    "plt.title(\"Metrics\")\n",
    "plt.show()"
   ]
  }
 ],
 "metadata": {
  "kernelspec": {
   "display_name": "proyeksysrek",
   "language": "python",
   "name": "python3"
  },
  "language_info": {
   "codemirror_mode": {
    "name": "ipython",
    "version": 3
   },
   "file_extension": ".py",
   "mimetype": "text/x-python",
   "name": "python",
   "nbconvert_exporter": "python",
   "pygments_lexer": "ipython3",
   "version": "3.12.2"
  }
 },
 "nbformat": 4,
 "nbformat_minor": 2
}
