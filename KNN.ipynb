{
 "cells": [
  {
   "cell_type": "code",
   "execution_count": 1,
   "metadata": {},
   "outputs": [],
   "source": [
    "# Library\n",
    "import pandas as pd\n",
    "import numpy as np\n",
    "from sklearn.model_selection import train_test_split, KFold\n",
    "from sklearn.feature_extraction.text import TfidfVectorizer\n",
    "from sklearn.metrics.pairwise import cosine_similarity\n",
    "from sklearn.metrics import mean_squared_error, mean_absolute_error\n",
    "import matplotlib.pyplot as plt\n",
    "import nltk\n",
    "from nltk.corpus import stopwords"
   ]
  },
  {
   "cell_type": "code",
   "execution_count": 2,
   "metadata": {},
   "outputs": [],
   "source": [
    "# Baca dataset\n",
    "df = pd.read_csv('data/Tempat-Wisata-Toba-Preprocessing.csv')\n",
    "\n",
    "# Bersihkan data\n",
    "df = df.drop(['Unnamed: 0', 'Unnamed: 0.1'], axis=1, errors='ignore')\n",
    "df.dropna(inplace=True) "
   ]
  },
  {
   "cell_type": "code",
   "execution_count": 3,
   "metadata": {},
   "outputs": [
    {
     "data": {
      "text/html": [
       "<div>\n",
       "<style scoped>\n",
       "    .dataframe tbody tr th:only-of-type {\n",
       "        vertical-align: middle;\n",
       "    }\n",
       "\n",
       "    .dataframe tbody tr th {\n",
       "        vertical-align: top;\n",
       "    }\n",
       "\n",
       "    .dataframe thead th {\n",
       "        text-align: right;\n",
       "    }\n",
       "</style>\n",
       "<table border=\"1\" class=\"dataframe\">\n",
       "  <thead>\n",
       "    <tr style=\"text-align: right;\">\n",
       "      <th></th>\n",
       "      <th>address</th>\n",
       "      <th>PlaceID</th>\n",
       "      <th>Nama_tempat_wisata</th>\n",
       "      <th>Category</th>\n",
       "      <th>ReviewerId</th>\n",
       "      <th>Rating</th>\n",
       "      <th>Reviews</th>\n",
       "    </tr>\n",
       "  </thead>\n",
       "  <tbody>\n",
       "    <tr>\n",
       "      <th>1</th>\n",
       "      <td>Jl. Sibola Hotang, Sibola Hotangsas, Kec. Bali...</td>\n",
       "      <td>0</td>\n",
       "      <td>PASIR PUTIH LUMBAN BULBUL</td>\n",
       "      <td>Wisata Bahari</td>\n",
       "      <td>1.119090e+20</td>\n",
       "      <td>5.0</td>\n",
       "      <td>bagus</td>\n",
       "    </tr>\n",
       "    <tr>\n",
       "      <th>3</th>\n",
       "      <td>Jl. Sibola Hotang, Sibola Hotangsas, Kec. Bali...</td>\n",
       "      <td>0</td>\n",
       "      <td>PASIR PUTIH LUMBAN BULBUL</td>\n",
       "      <td>Wisata Bahari</td>\n",
       "      <td>1.130720e+20</td>\n",
       "      <td>5.0</td>\n",
       "      <td>sangat menyenagkan</td>\n",
       "    </tr>\n",
       "    <tr>\n",
       "      <th>4</th>\n",
       "      <td>Jl. Sibola Hotang, Sibola Hotangsas, Kec. Bali...</td>\n",
       "      <td>0</td>\n",
       "      <td>PASIR PUTIH LUMBAN BULBUL</td>\n",
       "      <td>Wisata Bahari</td>\n",
       "      <td>1.061730e+20</td>\n",
       "      <td>5.0</td>\n",
       "      <td>bebas foto dimana aja cuma 2k</td>\n",
       "    </tr>\n",
       "    <tr>\n",
       "      <th>6</th>\n",
       "      <td>Jl. Sibola Hotang, Sibola Hotangsas, Kec. Bali...</td>\n",
       "      <td>0</td>\n",
       "      <td>PASIR PUTIH LUMBAN BULBUL</td>\n",
       "      <td>Wisata Bahari</td>\n",
       "      <td>1.142390e+20</td>\n",
       "      <td>5.0</td>\n",
       "      <td>amazing pengen kesini lagi</td>\n",
       "    </tr>\n",
       "    <tr>\n",
       "      <th>8</th>\n",
       "      <td>Jl. Sibola Hotang, Sibola Hotangsas, Kec. Bali...</td>\n",
       "      <td>0</td>\n",
       "      <td>PASIR PUTIH LUMBAN BULBUL</td>\n",
       "      <td>Wisata Bahari</td>\n",
       "      <td>1.047430e+20</td>\n",
       "      <td>3.0</td>\n",
       "      <td>jalan menuju lokasi perlu diperhatikan oleh pe...</td>\n",
       "    </tr>\n",
       "  </tbody>\n",
       "</table>\n",
       "</div>"
      ],
      "text/plain": [
       "                                             address  PlaceID  \\\n",
       "1  Jl. Sibola Hotang, Sibola Hotangsas, Kec. Bali...        0   \n",
       "3  Jl. Sibola Hotang, Sibola Hotangsas, Kec. Bali...        0   \n",
       "4  Jl. Sibola Hotang, Sibola Hotangsas, Kec. Bali...        0   \n",
       "6  Jl. Sibola Hotang, Sibola Hotangsas, Kec. Bali...        0   \n",
       "8  Jl. Sibola Hotang, Sibola Hotangsas, Kec. Bali...        0   \n",
       "\n",
       "          Nama_tempat_wisata       Category    ReviewerId  Rating  \\\n",
       "1  PASIR PUTIH LUMBAN BULBUL  Wisata Bahari  1.119090e+20     5.0   \n",
       "3  PASIR PUTIH LUMBAN BULBUL  Wisata Bahari  1.130720e+20     5.0   \n",
       "4  PASIR PUTIH LUMBAN BULBUL  Wisata Bahari  1.061730e+20     5.0   \n",
       "6  PASIR PUTIH LUMBAN BULBUL  Wisata Bahari  1.142390e+20     5.0   \n",
       "8  PASIR PUTIH LUMBAN BULBUL  Wisata Bahari  1.047430e+20     3.0   \n",
       "\n",
       "                                             Reviews  \n",
       "1                                              bagus  \n",
       "3                                 sangat menyenagkan  \n",
       "4                      bebas foto dimana aja cuma 2k  \n",
       "6                         amazing pengen kesini lagi  \n",
       "8  jalan menuju lokasi perlu diperhatikan oleh pe...  "
      ]
     },
     "execution_count": 3,
     "metadata": {},
     "output_type": "execute_result"
    }
   ],
   "source": [
    "df.head() "
   ]
  },
  {
   "cell_type": "code",
   "execution_count": 4,
   "metadata": {},
   "outputs": [
    {
     "name": "stdout",
     "output_type": "stream",
     "text": [
      "Train shape:  (15516, 7)\n",
      "Validation shape:  (3325, 7)\n",
      "Test shape:  (3325, 7)\n"
     ]
    }
   ],
   "source": [
    "# Split data menjadi train, validation, dan test  dengan proporsi 70:15:15\n",
    "train_df, temp_df = train_test_split(df, test_size=0.3, random_state=42)\n",
    "val_df, test_df = train_test_split(temp_df, test_size=0.5, random_state=42)\n",
    "\n",
    "# print data\n",
    "print('Train shape: ', train_df.shape)\n",
    "print('Validation shape: ', val_df.shape)\n",
    "print('Test shape: ', test_df.shape)\n"
   ]
  },
  {
   "cell_type": "code",
   "execution_count": 5,
   "metadata": {},
   "outputs": [],
   "source": [
    "# Fungsi untuk membuat fitur item\n",
    "from Sastrawi.StopWordRemover.StopWordRemoverFactory import StopWordRemoverFactory\n",
    "def create_item_features(df):\n",
    "    # Agregasi fitur teks\n",
    "    text_features = df.groupby('PlaceID').agg({\n",
    "        'Reviews': ' '.join,\n",
    "        'Category': 'first', \n",
    "        'Rating': 'mean'\n",
    "    }).reset_index()\n",
    "    \n",
    "    # TF-IDF untuk reviews\n",
    "    factory = StopWordRemoverFactory()\n",
    "    stopword = factory.create_stop_word_remover()\n",
    "    text_features['Reviews'] = text_features['Reviews'].apply(stopword.remove)\n",
    "    tfidf = TfidfVectorizer(\n",
    "        stop_words=stopwords.words('indonesian'),\n",
    "        max_features=50\n",
    "    )\n",
    "    reviews_tfidf = tfidf.fit_transform(text_features['Reviews'])\n",
    "    \n",
    "    # Normalisasi rating\n",
    "    normalized_ratings = (text_features['Rating'] - text_features['Rating'].min()) / (text_features['Rating'].max() - text_features['Rating'].min())\n",
    "    \n",
    "    # Similarity matrix untuk reviews\n",
    "    reviews_similarity = cosine_similarity(reviews_tfidf)\n",
    "    \n",
    "    # Similarity matrix untuk ratings\n",
    "    ratings_similarity = cosine_similarity(normalized_ratings.values.reshape(-1, 1))\n",
    "\n",
    "    alpha = 0.7  \n",
    "    beta = 0.3   \n",
    "    \n",
    "    combined_similarity = alpha * reviews_similarity + beta * ratings_similarity\n",
    "    \n",
    "    return combined_similarity, text_features\n"
   ]
  },
  {
   "cell_type": "code",
   "execution_count": 6,
   "metadata": {},
   "outputs": [
    {
     "name": "stderr",
     "output_type": "stream",
     "text": [
      "c:\\Users\\estop\\OneDrive\\Dokumen\\Sem 7\\Sisrek\\Proyek-SISREK_12\\proyeksysrek\\Lib\\site-packages\\sklearn\\feature_extraction\\text.py:406: UserWarning: Your stop_words may be inconsistent with your preprocessing. Tokenizing the stop words generated tokens ['baiknya', 'berkali', 'kali', 'kurangnya', 'mata', 'olah', 'sekurang', 'setidak', 'tama', 'tidaknya'] not in stop_words.\n",
      "  warnings.warn(\n"
     ]
    },
    {
     "name": "stdout",
     "output_type": "stream",
     "text": [
      "[[1.         0.56829754 0.53890456 ... 0.51864473 0.78464584 0.65198373]\n",
      " [0.56829754 1.         0.53004298 ... 0.62024539 0.76772996 0.79657085]\n",
      " [0.53890456 0.53004298 1.         ... 0.42515586 0.64700261 0.60836713]\n",
      " ...\n",
      " [0.51864473 0.62024539 0.42515586 ... 1.         0.69398165 0.6585137 ]\n",
      " [0.78464584 0.76772996 0.64700261 ... 0.69398165 1.         0.90615286]\n",
      " [0.65198373 0.79657085 0.60836713 ... 0.6585137  0.90615286 1.        ]]\n"
     ]
    }
   ],
   "source": [
    "# Buat similarity matrix\n",
    "sim_matrix, item_features = create_item_features(train_df)\n",
    "\n",
    "print(sim_matrix)  "
   ]
  },
  {
   "cell_type": "code",
   "execution_count": 7,
   "metadata": {},
   "outputs": [],
   "source": [
    "# Kelas model Item-Based KNN\n",
    "class ItemBasedKNN:\n",
    "    def __init__(self, similarity_matrix, item_features):\n",
    "        self.similarity_matrix = similarity_matrix\n",
    "        self.item_features = item_features\n",
    "        \n",
    "    def get_recommendations(self, place_id, k=5):\n",
    "        try:\n",
    "            idx = self.item_features[self.item_features['PlaceID'] == place_id].index[0]\n",
    "            sim_scores = list(enumerate(self.similarity_matrix[idx]))\n",
    "            sim_scores = sorted(sim_scores, key=lambda x: x[1], reverse=True)\n",
    "            sim_scores = sim_scores[1:k+1]\n",
    "            place_indices = [i[0] for i in sim_scores]\n",
    "            return self.item_features.iloc[place_indices]['PlaceID'].tolist()\n",
    "        except IndexError:\n",
    "            return []\n",
    "\n",
    "    def predict_rating(self, user_id, place_id, k=5):\n",
    "        user_ratings = train_df[train_df['ReviewerId'] == user_id]\n",
    "        if user_ratings.empty:\n",
    "            return None\n",
    "\n",
    "        try:\n",
    "            idx = self.item_features[self.item_features['PlaceID'] == place_id].index[0]\n",
    "            sim_scores = self.similarity_matrix[idx]\n",
    "\n",
    "            weighted_sum = 0\n",
    "            sim_sum = 0\n",
    "\n",
    "            for _, row in user_ratings.iterrows():\n",
    "                item_idx = self.item_features[self.item_features['PlaceID'] == row['PlaceID']].index[0]\n",
    "                sim = sim_scores[item_idx]\n",
    "                weighted_sum += sim * row['Rating']\n",
    "                sim_sum += abs(sim)\n",
    "\n",
    "            if sim_sum == 0:\n",
    "                return None\n",
    "\n",
    "            return weighted_sum / sim_sum\n",
    "        except IndexError:\n",
    "            return None"
   ]
  },
  {
   "cell_type": "code",
   "execution_count": 8,
   "metadata": {},
   "outputs": [],
   "source": [
    "# Inisialisasi model\n",
    "knn_model = ItemBasedKNN(sim_matrix, item_features)"
   ]
  },
  {
   "cell_type": "code",
   "execution_count": 9,
   "metadata": {},
   "outputs": [],
   "source": [
    "# find best k\n",
    "def find_best_k(model, val_data, k_values):\n",
    "    best_k = 0\n",
    "    best_rmse = float('inf')\n",
    "\n",
    "    for k in k_values:\n",
    "        actual_ratings = []\n",
    "        predicted_ratings = []\n",
    "\n",
    "        for _, row in val_data.iterrows():\n",
    "            pred_rating = model.predict_rating(row['ReviewerId'], row['PlaceID'], k)\n",
    "            if pred_rating is not None:\n",
    "                actual_ratings.append(row['Rating'])\n",
    "                predicted_ratings.append(pred_rating)\n",
    "\n",
    "        if actual_ratings and predicted_ratings:\n",
    "            rmse = np.sqrt(mean_squared_error(actual_ratings, predicted_ratings))\n",
    "            print(f\"k={k}, RMSE={rmse}\")\n",
    "\n",
    "            if rmse < best_rmse:\n",
    "                best_rmse = rmse\n",
    "                best_k = k\n",
    "\n",
    "    print(f\"Nilai k terbaik berdasarkan validasi: {best_k}, RMSE: {best_rmse}\")\n",
    "    return best_k"
   ]
  },
  {
   "cell_type": "code",
   "execution_count": 10,
   "metadata": {},
   "outputs": [
    {
     "name": "stdout",
     "output_type": "stream",
     "text": [
      "k=1, RMSE=0.9672462178625733\n",
      "k=2, RMSE=0.9672462178625733\n",
      "k=3, RMSE=0.9672462178625733\n",
      "k=4, RMSE=0.9672462178625733\n",
      "k=5, RMSE=0.9672462178625733\n",
      "k=6, RMSE=0.9672462178625733\n",
      "k=7, RMSE=0.9672462178625733\n",
      "k=8, RMSE=0.9672462178625733\n",
      "k=9, RMSE=0.9672462178625733\n",
      "k=10, RMSE=0.9672462178625733\n",
      "k=11, RMSE=0.9672462178625733\n",
      "k=12, RMSE=0.9672462178625733\n",
      "k=13, RMSE=0.9672462178625733\n",
      "k=14, RMSE=0.9672462178625733\n",
      "k=15, RMSE=0.9672462178625733\n",
      "k=16, RMSE=0.9672462178625733\n",
      "k=17, RMSE=0.9672462178625733\n",
      "k=18, RMSE=0.9672462178625733\n",
      "k=19, RMSE=0.9672462178625733\n",
      "Nilai k terbaik berdasarkan validasi: 1, RMSE: 0.9672462178625733\n"
     ]
    }
   ],
   "source": [
    "# validasi model untuk mencari nilai k terbaik\n",
    "k_values=range(1, 20)\n",
    "best_k = find_best_k(knn_model, val_df, k_values)"
   ]
  },
  {
   "cell_type": "code",
   "execution_count": 11,
   "metadata": {},
   "outputs": [],
   "source": [
    "# Fungsi untuk menghitung metrik ranking\n",
    "def calculate_ranking_metrics(actual, predicted, k):\n",
    "    precision = len(set(actual) & set(predicted[:k])) / k if k > 0 else 0\n",
    "    recall = len(set(actual) & set(predicted[:k])) / len(actual) if len(actual) > 0 else 0\n",
    "    \n",
    "    # Calculate MAP@K\n",
    "    ap = 0\n",
    "    hits = 0\n",
    "    for i, p in enumerate(predicted[:k]):\n",
    "        if p in actual:\n",
    "            hits += 1\n",
    "            ap += hits / (i + 1)\n",
    "    map_k = ap / min(len(actual), k) if k > 0 else 0\n",
    "    \n",
    "    return precision, recall, map_k\n"
   ]
  },
  {
   "cell_type": "code",
   "execution_count": 12,
   "metadata": {},
   "outputs": [],
   "source": [
    "# Evaluasi model\n",
    "def evaluate_model(model, test_data, k_best):\n",
    "    actual_ratings = []\n",
    "    predicted_ratings = []\n",
    "    ranking_metrics = {'precision': [], 'recall': [], 'map': []}\n",
    "    \n",
    "    for user_id in test_data['ReviewerId'].unique():\n",
    "        user_ratings = test_data[test_data['ReviewerId'] == user_id]\n",
    "\n",
    "        # Rating-based metrics\n",
    "        for _, row in user_ratings.iterrows():\n",
    "            pred_rating = model.predict_rating(user_id, row['PlaceID'], k=k_best)\n",
    "            if pred_rating is not None:\n",
    "                actual_ratings.append(row['Rating'])\n",
    "                predicted_ratings.append(pred_rating)\n",
    "\n",
    "        # Ranking-based metrics\n",
    "        actual_items = user_ratings['PlaceID'].tolist()\n",
    "        if actual_items:\n",
    "            recommended_items = model.get_recommendations(actual_items[0], k=k_best)\n",
    "\n",
    "            # Calculate metrics for k-best recommendations\n",
    "            p, r, m = calculate_ranking_metrics(actual_items, recommended_items, k_best)\n",
    "            ranking_metrics['precision'].append(p)\n",
    "            ranking_metrics['recall'].append(r)\n",
    "            ranking_metrics['map'].append(m)\n",
    "\n",
    "    # Calculate rating-based metrics\n",
    "    rmse = np.sqrt(mean_squared_error(actual_ratings, predicted_ratings))\n",
    "    mae = mean_absolute_error(actual_ratings, predicted_ratings)\n",
    "\n",
    "    # Calculate average ranking metrics\n",
    "    ranking_metrics = {k: np.mean(v) for k, v in ranking_metrics.items()}\n",
    "\n",
    "    return rmse, mae, ranking_metrics"
   ]
  },
  {
   "cell_type": "code",
   "execution_count": 13,
   "metadata": {},
   "outputs": [],
   "source": [
    "# Evaluasi dan visualisasi\n",
    "rmse, mae, ranking_metrics = evaluate_model(knn_model, test_df, k_best=best_k)"
   ]
  },
  {
   "cell_type": "code",
   "execution_count": 14,
   "metadata": {},
   "outputs": [
    {
     "data": {
      "image/png": "[encoded data removed]",
      "text/plain": [
       "<Figure size 1200x500 with 2 Axes>"
      ]
     },
     "metadata": {},
     "output_type": "display_data"
    },
    {
     "name": "stdout",
     "output_type": "stream",
     "text": [
      "RMSE: 1.0099769276794763\n",
      "MAE: 0.5898172276277835\n",
      "Ranking Metrics:\n",
      "precision: 0.005330490405117271\n",
      "recall: 0.0023098791755508173\n",
      "map: 0.005330490405117271\n"
     ]
    }
   ],
   "source": [
    "\n",
    "def plot_results(rmse, mae, ranking_metrics):\n",
    "    plt.figure(figsize=(12, 5))\n",
    "    \n",
    "    plt.subplot(1, 2, 1)\n",
    "    plt.bar(['RMSE', 'MAE'], [rmse, mae], color='skyblue')\n",
    "    plt.title('Rating-based Metrics')\n",
    "    plt.ylabel('Error')\n",
    "    \n",
    "    plt.subplot(1, 2, 2)\n",
    "    metrics = list(ranking_metrics.keys())\n",
    "    values = list(ranking_metrics.values())\n",
    "    plt.bar(metrics, values, color='salmon')\n",
    "    plt.title('Ranking-based Metrics')\n",
    "    plt.ylabel('Score')\n",
    "    plt.xticks(rotation=45)\n",
    "    \n",
    "    plt.tight_layout()\n",
    "    plt.show()\n",
    "\n",
    "plot_results(rmse, mae, ranking_metrics)\n",
    "\n",
    "# Cetak hasil evaluasi\n",
    "print('RMSE:', rmse)\n",
    "print('MAE:', mae)\n",
    "print('Ranking Metrics:')\n",
    "for k, v in ranking_metrics.items():\n",
    "    print(f'{k}: {v}')"
   ]
  }
 ],
 "metadata": {
  "kernelspec": {
   "display_name": "proyeksysrek",
   "language": "python",
   "name": "python3"
  },
  "language_info": {
   "codemirror_mode": {
    "name": "ipython",
    "version": 3
   },
   "file_extension": ".py",
   "mimetype": "text/x-python",
   "name": "python",
   "nbconvert_exporter": "python",
   "pygments_lexer": "ipython3",
   "version": "3.12.2"
  }
 },
 "nbformat": 4,
 "nbformat_minor": 2
}
