{
 "cells": [
  {
   "cell_type": "code",
   "execution_count": 1,
   "metadata": {},
   "outputs": [],
   "source": [
    "import pandas as pd\n",
    "import numpy as np\n",
    "from sklearn.model_selection import train_test_split\n",
    "from sklearn.feature_extraction.text import TfidfVectorizer\n",
    "from sklearn.metrics.pairwise import cosine_similarity\n",
    "from surprise import SVD, Dataset, Reader\n",
    "from sklearn.metrics import mean_squared_error\n",
    "import warnings\n",
    "from sklearn.preprocessing import LabelEncoder\n",
    "from sklearn.metrics import mean_squared_error, mean_absolute_error"
   ]
  },
  {
   "cell_type": "code",
   "execution_count": 2,
   "metadata": {},
   "outputs": [],
   "source": [
    "warnings.filterwarnings('ignore')"
   ]
  },
  {
   "cell_type": "code",
   "execution_count": 3,
   "metadata": {},
   "outputs": [
    {
     "data": {
      "text/html": [
       "<div>\n",
       "<style scoped>\n",
       "    .dataframe tbody tr th:only-of-type {\n",
       "        vertical-align: middle;\n",
       "    }\n",
       "\n",
       "    .dataframe tbody tr th {\n",
       "        vertical-align: top;\n",
       "    }\n",
       "\n",
       "    .dataframe thead th {\n",
       "        text-align: right;\n",
       "    }\n",
       "</style>\n",
       "<table border=\"1\" class=\"dataframe\">\n",
       "  <thead>\n",
       "    <tr style=\"text-align: right;\">\n",
       "      <th></th>\n",
       "      <th>Unnamed: 0.1</th>\n",
       "      <th>Unnamed: 0</th>\n",
       "      <th>address</th>\n",
       "      <th>PlaceID</th>\n",
       "      <th>Nama_tempat_wisata</th>\n",
       "      <th>Category</th>\n",
       "      <th>ReviewerId</th>\n",
       "      <th>Rating</th>\n",
       "      <th>Reviews</th>\n",
       "    </tr>\n",
       "  </thead>\n",
       "  <tbody>\n",
       "    <tr>\n",
       "      <th>0</th>\n",
       "      <td>0</td>\n",
       "      <td>0</td>\n",
       "      <td>Jl. Sibola Hotang, Sibola Hotangsas, Kec. Bali...</td>\n",
       "      <td>0</td>\n",
       "      <td>PASIR PUTIH LUMBAN BULBUL</td>\n",
       "      <td>Wisata Bahari</td>\n",
       "      <td>1.126030e+20</td>\n",
       "      <td>5.0</td>\n",
       "      <td>NaN</td>\n",
       "    </tr>\n",
       "    <tr>\n",
       "      <th>1</th>\n",
       "      <td>1</td>\n",
       "      <td>1</td>\n",
       "      <td>Jl. Sibola Hotang, Sibola Hotangsas, Kec. Bali...</td>\n",
       "      <td>0</td>\n",
       "      <td>PASIR PUTIH LUMBAN BULBUL</td>\n",
       "      <td>Wisata Bahari</td>\n",
       "      <td>1.119090e+20</td>\n",
       "      <td>5.0</td>\n",
       "      <td>bagus</td>\n",
       "    </tr>\n",
       "    <tr>\n",
       "      <th>2</th>\n",
       "      <td>2</td>\n",
       "      <td>2</td>\n",
       "      <td>Jl. Sibola Hotang, Sibola Hotangsas, Kec. Bali...</td>\n",
       "      <td>0</td>\n",
       "      <td>PASIR PUTIH LUMBAN BULBUL</td>\n",
       "      <td>Wisata Bahari</td>\n",
       "      <td>1.078860e+20</td>\n",
       "      <td>5.0</td>\n",
       "      <td>NaN</td>\n",
       "    </tr>\n",
       "    <tr>\n",
       "      <th>3</th>\n",
       "      <td>3</td>\n",
       "      <td>3</td>\n",
       "      <td>Jl. Sibola Hotang, Sibola Hotangsas, Kec. Bali...</td>\n",
       "      <td>0</td>\n",
       "      <td>PASIR PUTIH LUMBAN BULBUL</td>\n",
       "      <td>Wisata Bahari</td>\n",
       "      <td>1.130720e+20</td>\n",
       "      <td>5.0</td>\n",
       "      <td>sangat menyenagkan</td>\n",
       "    </tr>\n",
       "    <tr>\n",
       "      <th>4</th>\n",
       "      <td>4</td>\n",
       "      <td>4</td>\n",
       "      <td>Jl. Sibola Hotang, Sibola Hotangsas, Kec. Bali...</td>\n",
       "      <td>0</td>\n",
       "      <td>PASIR PUTIH LUMBAN BULBUL</td>\n",
       "      <td>Wisata Bahari</td>\n",
       "      <td>1.061730e+20</td>\n",
       "      <td>5.0</td>\n",
       "      <td>bebas foto dimana aja cuma 2k</td>\n",
       "    </tr>\n",
       "  </tbody>\n",
       "</table>\n",
       "</div>"
      ],
      "text/plain": [
       "   Unnamed: 0.1  Unnamed: 0  \\\n",
       "0             0           0   \n",
       "1             1           1   \n",
       "2             2           2   \n",
       "3             3           3   \n",
       "4             4           4   \n",
       "\n",
       "                                             address  PlaceID  \\\n",
       "0  Jl. Sibola Hotang, Sibola Hotangsas, Kec. Bali...        0   \n",
       "1  Jl. Sibola Hotang, Sibola Hotangsas, Kec. Bali...        0   \n",
       "2  Jl. Sibola Hotang, Sibola Hotangsas, Kec. Bali...        0   \n",
       "3  Jl. Sibola Hotang, Sibola Hotangsas, Kec. Bali...        0   \n",
       "4  Jl. Sibola Hotang, Sibola Hotangsas, Kec. Bali...        0   \n",
       "\n",
       "          Nama_tempat_wisata       Category    ReviewerId  Rating  \\\n",
       "0  PASIR PUTIH LUMBAN BULBUL  Wisata Bahari  1.126030e+20     5.0   \n",
       "1  PASIR PUTIH LUMBAN BULBUL  Wisata Bahari  1.119090e+20     5.0   \n",
       "2  PASIR PUTIH LUMBAN BULBUL  Wisata Bahari  1.078860e+20     5.0   \n",
       "3  PASIR PUTIH LUMBAN BULBUL  Wisata Bahari  1.130720e+20     5.0   \n",
       "4  PASIR PUTIH LUMBAN BULBUL  Wisata Bahari  1.061730e+20     5.0   \n",
       "\n",
       "                         Reviews  \n",
       "0                            NaN  \n",
       "1                          bagus  \n",
       "2                            NaN  \n",
       "3             sangat menyenagkan  \n",
       "4  bebas foto dimana aja cuma 2k  "
      ]
     },
     "execution_count": 3,
     "metadata": {},
     "output_type": "execute_result"
    }
   ],
   "source": [
    "# Load dataset\n",
    "data = pd.read_csv(\"data/Tempat-Wisata-Toba-Preprocessing.csv\")\n",
    "# print sample data\n",
    "data.head()"
   ]
  },
  {
   "cell_type": "markdown",
   "metadata": {},
   "source": [
    "### Preprocessing Dataset"
   ]
  },
  {
   "cell_type": "code",
   "execution_count": 4,
   "metadata": {},
   "outputs": [],
   "source": [
    "# preprocess_data\n",
    "from sklearn.preprocessing import MinMaxScaler\n",
    "\n",
    "def preprocess_data(data):\n",
    "    # Drop missing values (alternatif: imputasi)\n",
    "    data = data.dropna()\n",
    "    \n",
    "    # Drop kolom tidak relevan\n",
    "    data = data.drop([\"Unnamed: 0\", \"Unnamed: 0.1\"], axis=1)\n",
    "    \n",
    "    # Normalize rating\n",
    "    scaler = MinMaxScaler()\n",
    "    data[\"NormalRating\"] = scaler.fit_transform(data[[\"Rating\"]])\n",
    "    \n",
    "    # Encode ID\n",
    "    le_user = LabelEncoder()\n",
    "    le_place = LabelEncoder()\n",
    "    data[\"ReviewerId\"] = le_user.fit_transform(data[\"ReviewerId\"])\n",
    "    data[\"PlaceID\"] = le_place.fit_transform(data[\"PlaceID\"])\n",
    "    \n",
    "    # Split data\n",
    "    train, test = train_test_split(data, test_size=0.3, random_state=42)\n",
    "    test, val = train_test_split(test, test_size=0.5, random_state=42)\n",
    "    \n",
    "    return train, test, val, le_user, le_place\n",
    "\n",
    "\n"
   ]
  },
  {
   "cell_type": "markdown",
   "metadata": {},
   "source": [
    "### Collaborative filtering"
   ]
  },
  {
   "cell_type": "code",
   "execution_count": 5,
   "metadata": {},
   "outputs": [],
   "source": [
    "# collaborative_filtering\n",
    "def collaborative_filtering(train):\n",
    "    # Load data\n",
    "    reader = Reader(rating_scale=(0, 1))\n",
    "    data_surprise = Dataset.load_from_df(\n",
    "        train[[\"ReviewerId\", \"PlaceID\", \"NormalRating\"]], reader\n",
    "    )\n",
    "    trainset = data_surprise.build_full_trainset()\n",
    "\n",
    "    # Train SVD\n",
    "    svd = SVD()\n",
    "    svd.fit(trainset)\n",
    "\n",
    "    return svd\n"
   ]
  },
  {
   "cell_type": "markdown",
   "metadata": {},
   "source": [
    "### Content based filtering"
   ]
  },
  {
   "cell_type": "code",
   "execution_count": 6,
   "metadata": {},
   "outputs": [],
   "source": [
    "# content_based_filtering\n",
    "from Sastrawi.StopWordRemover.StopWordRemoverFactory import StopWordRemoverFactory\n",
    "\n",
    "def content_based_filtering(train):\n",
    "    # Load data\n",
    "    factory = StopWordRemoverFactory()\n",
    "    stopwords = factory.get_stop_words()\n",
    "    tfidf = TfidfVectorizer(stop_words=stopwords)\n",
    "    tfidf_matrix = tfidf.fit_transform(train[\"Reviews\"])\n",
    "    \n",
    "    # Calculate cosine similarity\n",
    "    cosine_sim = cosine_similarity(tfidf_matrix, tfidf_matrix)\n",
    "    \n",
    "    return cosine_sim, tfidf\n",
    "\n"
   ]
  },
  {
   "cell_type": "markdown",
   "metadata": {},
   "source": [
    "### Hybrid Filtering"
   ]
  },
  {
   "cell_type": "code",
   "execution_count": 7,
   "metadata": {},
   "outputs": [],
   "source": [
    "# Hybrid filtering\n",
    "def hybrid_recommendation(predictions, cosine_sim, svd, val):\n",
    "    # Predict rating\n",
    "    val[\"PredictedRating\"] = val.apply(\n",
    "        lambda x: svd.predict(x[\"ReviewerId\"], x[\"PlaceID\"]).est, axis=1\n",
    "    )\n",
    "    \n",
    "    # Hybrid score: Combine Collaborative and Content-Based Filtering\n",
    "    hybrid_scores = []\n",
    "    for i, row in val.iterrows():\n",
    "        cb_score = cosine_sim[row[\"PlaceID\"]].mean()  # Content-based score\n",
    "        cf_score = row[\"PredictedRating\"]  # Collaborative score\n",
    "        hybrid_scores.append(0.5 * cb_score + 0.5 * cf_score)\n",
    "    \n",
    "    val[\"HybridScore\"] = hybrid_scores\n",
    "    return val\n",
    "\n"
   ]
  },
  {
   "cell_type": "markdown",
   "metadata": {},
   "source": [
    "### Evaluasi Model"
   ]
  },
  {
   "cell_type": "markdown",
   "metadata": {},
   "source": [
    "#### Rating-Based Metrics"
   ]
  },
  {
   "cell_type": "code",
   "execution_count": 8,
   "metadata": {},
   "outputs": [],
   "source": [
    "# evaluasi rating based metrics\n",
    "def evaluate_ranking_based(val):\n",
    "    from sklearn.metrics import precision_score, recall_score\n",
    "    # Thresholding\n",
    "    val[\"Relevant\"] = val[\"NormalRating\"] >= 0.5\n",
    "    val[\"Recommended\"] = val[\"HybridScore\"] >= 0.5\n",
    "    \n",
    "    # Precision and Recall\n",
    "    precision = precision_score(val[\"Relevant\"], val[\"Recommended\"])\n",
    "    recall = recall_score(val[\"Relevant\"], val[\"Recommended\"])\n",
    "    \n",
    "    # MAP\n",
    "    val = val.sort_values(\"HybridScore\", ascending=False)\n",
    "    val[\"Rank\"] = range(1, len(val) + 1)\n",
    "    val[\"CumulativeRelevant\"] = val[\"Relevant\"].cumsum()\n",
    "    val[\"PrecisionAtK\"] = val[\"CumulativeRelevant\"] / val[\"Rank\"]\n",
    "    map_score = val.loc[val[\"Relevant\"], \"PrecisionAtK\"].mean()\n",
    "    \n",
    "    return precision, recall, map_score\n",
    "\n"
   ]
  },
  {
   "cell_type": "markdown",
   "metadata": {},
   "source": [
    "#### Ranking-Based Metrics"
   ]
  },
  {
   "cell_type": "code",
   "execution_count": 9,
   "metadata": {},
   "outputs": [],
   "source": [
    "# Fungsi untuk menghitung RMSE dan MAE\n",
    "def evaluate_rating_based(val):\n",
    "    rmse = np.sqrt(mean_squared_error(val[\"NormalRating\"], val[\"PredictedRating\"]))\n",
    "    mae = mean_absolute_error(val[\"NormalRating\"], val[\"PredictedRating\"])\n",
    "    return rmse, mae"
   ]
  },
  {
   "cell_type": "markdown",
   "metadata": {},
   "source": [
    "### Penggunaan"
   ]
  },
  {
   "cell_type": "code",
   "execution_count": 10,
   "metadata": {},
   "outputs": [
    {
     "name": "stdout",
     "output_type": "stream",
     "text": [
      "Precision: 0.9928571428571429\n",
      "Recall: 0.0433832709113608\n",
      "MAP: 0.9748039198121355\n",
      "RMSE: 0.21534626675461466\n",
      "MAE: 0.15826464671960722\n"
     ]
    }
   ],
   "source": [
    "# 1. Preprocessing Data\n",
    "train, test, val, le_user, le_place = preprocess_data(data)\n",
    "\n",
    "# 2. Collaborative Filtering\n",
    "svd = collaborative_filtering(train)\n",
    "\n",
    "# 3. Content-Based Filtering\n",
    "cosine_sim, tfidf = content_based_filtering(train)\n",
    "\n",
    "# 4. Hybrid Filtering\n",
    "val = hybrid_recommendation(val, cosine_sim, svd, val)\n",
    "\n",
    "# 5. Evaluasi\n",
    "precision, recall, map_score = evaluate_ranking_based(val)\n",
    "rmse, mae = evaluate_rating_based(val)\n",
    "\n",
    "print(f\"Precision: {precision}\")\n",
    "print(f\"Recall: {recall}\")\n",
    "print(f\"MAP: {map_score}\")\n",
    "print(f\"RMSE: {rmse}\")\n",
    "print(f\"MAE: {mae}\")\n",
    "\n",
    "\n"
   ]
  },
  {
   "cell_type": "code",
   "execution_count": 12,
   "metadata": {},
   "outputs": [
    {
     "data": {
      "image/png": "[encoded data removed]",
      "text/plain": [
       "<Figure size 640x480 with 1 Axes>"
      ]
     },
     "metadata": {},
     "output_type": "display_data"
    }
   ],
   "source": [
    "# visualisasi hasil evaluasi dengan bar chart\n",
    "import matplotlib.pyplot as plt\n",
    "\n",
    "metrics = [\"Precision\", \"Recall\", \"MAP\", \"RMSE\", \"MAE\"]\n",
    "values = [precision, recall, map_score, rmse, mae]\n",
    "\n",
    "plt.bar(metrics, values)\n",
    "plt.ylabel(\"Score\")\n",
    "plt.title(\"Hybrid Recommendation System Performance\")\n",
    "plt.show()\n",
    "\n"
   ]
  }
 ],
 "metadata": {
  "kernelspec": {
   "display_name": "Python 3 (ipykernel)",
   "language": "python",
   "name": "python3"
  },
  "language_info": {
   "codemirror_mode": {
    "name": "ipython",
    "version": 3
   },
   "file_extension": ".py",
   "mimetype": "text/x-python",
   "name": "python",
   "nbconvert_exporter": "python",
   "pygments_lexer": "ipython3",
   "version": "3.11.4"
  }
 },
 "nbformat": 4,
 "nbformat_minor": 2
}
